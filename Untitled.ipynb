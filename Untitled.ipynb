{
 "cells": [
  {
   "cell_type": "markdown",
   "id": "a0b5fe14",
   "metadata": {},
   "source": [
    "Networkx = 2.6.3"
   ]
  },
  {
   "cell_type": "code",
   "execution_count": 40,
   "id": "e8ae67bd",
   "metadata": {
    "scrolled": true
   },
   "outputs": [
    {
     "name": "stdout",
     "output_type": "stream",
     "text": [
      "# conda environments:\r\n",
      "#\r\n",
      "mlops                    /home/jmdelay/.conda/envs/mlops\r\n",
      "network               *  /home/jmdelay/.conda/envs/network\r\n",
      "base                     /share/apps/rc/software/Anaconda3/2021.11\r\n",
      "\r\n"
     ]
    }
   ],
   "source": [
    "!conda env list"
   ]
  },
  {
   "cell_type": "code",
   "execution_count": 1,
   "id": "920be116",
   "metadata": {},
   "outputs": [],
   "source": [
    "import networkx as nx\n",
    "import numpy as np\n",
    "import matplotlib.pyplot as plt\n",
    "import scipy as sp\n",
    "import pandas as pd\n",
    "import json\n",
    "from semanticscholar import SemanticScholar\n",
    "import sys\n",
    "import habanero\n",
    "import crossref_commons.retrieval\n",
    "from pybliometrics.scopus import *\n"
   ]
  },
  {
   "cell_type": "code",
   "execution_count": 2,
   "id": "8a7afe8e",
   "metadata": {},
   "outputs": [],
   "source": [
    "screen = pd.read_csv('full_test.csv')\n",
    "screen = screen.reset_index()"
   ]
  },
  {
   "cell_type": "code",
   "execution_count": 3,
   "id": "43e9ddb2",
   "metadata": {},
   "outputs": [],
   "source": [
    "G = nx.DiGraph()\n",
    "for index, paper in screen.iterrows():\n",
    "    doi_from = paper['DOI']\n",
    "    try:\n",
    "        citations = crossref_commons.retrieval.get_publication_as_json(doi_from)\n",
    "        is_valid =True\n",
    "    except (TypeError, ValueError) as e: # when there is no DOI / cannot access DOI\n",
    "        is_valid = False\n",
    "        continue\n",
    "    if (is_valid == True) and ('reference' in citations.keys()): # paper's reference info available\n",
    "        for ref in citations['reference']:\n",
    "            try:\n",
    "                doi_to = ref['DOI']\n",
    "                G.add_edge(doi_from,doi_to)\n",
    "            except KeyError: # reference DOI not available\n",
    "                continue\n"
   ]
  },
  {
   "cell_type": "code",
   "execution_count": 5,
   "id": "4e2ee324",
   "metadata": {},
   "outputs": [
    {
     "data": {
      "text/plain": [
       "'DiGraph with 401 nodes and 419 edges'"
      ]
     },
     "execution_count": 5,
     "metadata": {},
     "output_type": "execute_result"
    }
   ],
   "source": [
    "nx.info(G)"
   ]
  },
  {
   "cell_type": "markdown",
   "id": "d73a0480",
   "metadata": {},
   "source": [
    "Note: We needed citations to denote main->reference because PageRank measures influence mostly by in-degree."
   ]
  },
  {
   "cell_type": "code",
   "execution_count": 6,
   "id": "9b493f8a",
   "metadata": {},
   "outputs": [
    {
     "data": {
      "text/html": [
       "<div>\n",
       "<style scoped>\n",
       "    .dataframe tbody tr th:only-of-type {\n",
       "        vertical-align: middle;\n",
       "    }\n",
       "\n",
       "    .dataframe tbody tr th {\n",
       "        vertical-align: top;\n",
       "    }\n",
       "\n",
       "    .dataframe thead th {\n",
       "        text-align: right;\n",
       "    }\n",
       "</style>\n",
       "<table border=\"1\" class=\"dataframe\">\n",
       "  <thead>\n",
       "    <tr style=\"text-align: right;\">\n",
       "      <th></th>\n",
       "      <th>PageRank</th>\n",
       "    </tr>\n",
       "  </thead>\n",
       "  <tbody>\n",
       "    <tr>\n",
       "      <th>10.1097/00005392-199502000-00067</th>\n",
       "      <td>0.002407</td>\n",
       "    </tr>\n",
       "    <tr>\n",
       "      <th>10.1016/j.jpurol.2009.10.003</th>\n",
       "      <td>0.002407</td>\n",
       "    </tr>\n",
       "    <tr>\n",
       "      <th>10.1097/GRF.0000000000000672</th>\n",
       "      <td>0.002407</td>\n",
       "    </tr>\n",
       "    <tr>\n",
       "      <th>10.1097/00042307-200005000-00002</th>\n",
       "      <td>0.002407</td>\n",
       "    </tr>\n",
       "    <tr>\n",
       "      <th>10.1016/S0022-5347(05)66131-9</th>\n",
       "      <td>0.002407</td>\n",
       "    </tr>\n",
       "    <tr>\n",
       "      <th>...</th>\n",
       "      <td>...</td>\n",
       "    </tr>\n",
       "    <tr>\n",
       "      <th>10.1159/000314536</th>\n",
       "      <td>0.003032</td>\n",
       "    </tr>\n",
       "    <tr>\n",
       "      <th>10.1016/S0022-5347(17)51436-6</th>\n",
       "      <td>0.003145</td>\n",
       "    </tr>\n",
       "    <tr>\n",
       "      <th>10.1016/S0022-5347(17)52525-2</th>\n",
       "      <td>0.003259</td>\n",
       "    </tr>\n",
       "    <tr>\n",
       "      <th>10.1016/S0022-5347(17)52923-7</th>\n",
       "      <td>0.003486</td>\n",
       "    </tr>\n",
       "    <tr>\n",
       "      <th>10.1016/S0022-5347(17)65118-8</th>\n",
       "      <td>0.003486</td>\n",
       "    </tr>\n",
       "  </tbody>\n",
       "</table>\n",
       "<p>401 rows × 1 columns</p>\n",
       "</div>"
      ],
      "text/plain": [
       "                                  PageRank\n",
       "10.1097/00005392-199502000-00067  0.002407\n",
       "10.1016/j.jpurol.2009.10.003      0.002407\n",
       "10.1097/GRF.0000000000000672      0.002407\n",
       "10.1097/00042307-200005000-00002  0.002407\n",
       "10.1016/S0022-5347(05)66131-9     0.002407\n",
       "...                                    ...\n",
       "10.1159/000314536                 0.003032\n",
       "10.1016/S0022-5347(17)51436-6     0.003145\n",
       "10.1016/S0022-5347(17)52525-2     0.003259\n",
       "10.1016/S0022-5347(17)52923-7     0.003486\n",
       "10.1016/S0022-5347(17)65118-8     0.003486\n",
       "\n",
       "[401 rows x 1 columns]"
      ]
     },
     "execution_count": 6,
     "metadata": {},
     "output_type": "execute_result"
    }
   ],
   "source": [
    "ranks = nx.pagerank(G)\n",
    "ranks = pd.DataFrame.from_dict(ranks,orient='index', columns=['PageRank'])\n",
    "ranks = ranks.sort_values('PageRank')\n",
    "ranks"
   ]
  },
  {
   "cell_type": "markdown",
   "id": "b0c6cbbf",
   "metadata": {},
   "source": [
    "nx.write_gml(G,'netTest.gml')"
   ]
  },
  {
   "cell_type": "code",
   "execution_count": 7,
   "id": "601bf53d",
   "metadata": {},
   "outputs": [
    {
     "data": {
      "image/png": "[encoded data removed]",
      "text/plain": [
       "<Figure size 432x288 with 1 Axes>"
      ]
     },
     "metadata": {
      "needs_background": "light"
     },
     "output_type": "display_data"
    }
   ],
   "source": [
    "plt.hist(ranks['PageRank'],bins=100)\n",
    "plt.yscale('log')\n",
    "plt.show()"
   ]
  },
  {
   "cell_type": "markdown",
   "id": "dfcdb6fc",
   "metadata": {},
   "source": [
    "g_in = nx.read_gml('netTest.gml')\n",
    "nx.info(g_in)"
   ]
  },
  {
   "cell_type": "markdown",
   "id": "16962e8d",
   "metadata": {},
   "source": [
    "Distances between any two papers"
   ]
  },
  {
   "cell_type": "code",
   "execution_count": 41,
   "id": "b3e7602c",
   "metadata": {},
   "outputs": [
    {
     "data": {
      "image/png": "[encoded data removed]",
      "text/plain": [
       "<Figure size 432x288 with 1 Axes>"
      ]
     },
     "metadata": {
      "needs_background": "light"
     },
     "output_type": "display_data"
    }
   ],
   "source": [
    "distances = nx.floyd_warshall_numpy(G)\n",
    "distances[np.isinf(distances)] =0\n",
    "plt.hist(distances.flatten('F'))\n",
    "plt.yscale('log')\n",
    "plt.show()"
   ]
  }
 ],
 "metadata": {
  "anaconda-cloud": {
   "summary": "test publish"
  },
  "kernelspec": {
   "display_name": "Python [conda env:.conda-network]",
   "language": "python",
   "name": "conda-env-.conda-network-py"
  },
  "language_info": {
   "codemirror_mode": {
    "name": "ipython",
    "version": 3
   },
   "file_extension": ".py",
   "mimetype": "text/x-python",
   "name": "python",
   "nbconvert_exporter": "python",
   "pygments_lexer": "ipython3",
   "version": "3.8.13"
  }
 },
 "nbformat": 4,
 "nbformat_minor": 5
}

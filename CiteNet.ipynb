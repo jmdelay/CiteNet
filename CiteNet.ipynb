{
 "cells": [
  {
   "cell_type": "markdown",
   "id": "b2630662",
   "metadata": {},
   "source": [
    "# Citation Network Analysis for Intersex Health Knowledge Base"
   ]
  },
  {
   "cell_type": "markdown",
   "id": "cc6613bb",
   "metadata": {},
   "source": [
    "## Leveraging CrossRef publication API to measure the impact of articles on the collective literature in a research field."
   ]
  },
  {
   "cell_type": "markdown",
   "id": "a0b5fe14",
   "metadata": {},
   "source": [
    "DEPENDENT: Networkx = 2.6.3"
   ]
  },
  {
   "cell_type": "code",
   "execution_count": 40,
   "id": "e8ae67bd",
   "metadata": {
    "scrolled": true
   },
   "outputs": [
    {
     "name": "stdout",
     "output_type": "stream",
     "text": [
      "# conda environments:\r\n",
      "#\r\n",
      "mlops                    /home/jmdelay/.conda/envs/mlops\r\n",
      "network               *  /home/jmdelay/.conda/envs/network\r\n",
      "base                     /share/apps/rc/software/Anaconda3/2021.11\r\n",
      "\r\n"
     ]
    }
   ],
   "source": [
    "# to ensure we are in the correct env in UAB CHEAHA research cluster\n",
    "!conda env list"
   ]
  },
  {
   "cell_type": "code",
   "execution_count": 1,
   "id": "920be116",
   "metadata": {},
   "outputs": [],
   "source": [
    "# necessary libraries + others we may need later\n",
    "import networkx as nx\n",
    "import numpy as np\n",
    "import matplotlib.pyplot as plt\n",
    "import scipy as sp\n",
    "import pandas as pd\n",
    "import json\n",
    "from semanticscholar import SemanticScholar\n",
    "import sys\n",
    "import habanero\n",
    "import crossref_commons.retrieval\n",
    "from pybliometrics.scopus import *\n"
   ]
  },
  {
   "cell_type": "markdown",
   "id": "589efb51",
   "metadata": {},
   "source": [
    "Ingest the .cvs from Covidence review site"
   ]
  },
  {
   "cell_type": "code",
   "execution_count": 18,
   "id": "8a7afe8e",
   "metadata": {},
   "outputs": [],
   "source": [
    "screen = pd.read_csv('articles.csv')\n",
    "screen = screen.reset_index()"
   ]
  },
  {
   "cell_type": "markdown",
   "id": "81b0c99b",
   "metadata": {},
   "source": [
    "For each article, search CrossRef for references; create edges in network from article to reference article using DOI."
   ]
  },
  {
   "cell_type": "markdown",
   "id": "d73a0480",
   "metadata": {},
   "source": [
    "Note: We needed citations to denote main->reference because PageRank measures influence mostly by in-degree."
   ]
  },
  {
   "cell_type": "code",
   "execution_count": null,
   "id": "efe90dc8",
   "metadata": {},
   "outputs": [],
   "source": [
    "## WE CAN IMPORT AN EARLIER VERSION FOR TESTING ##\n",
    "\n",
    "#g_in = nx.read_gml('netTest.gml')\n",
    "#nx.info(g_in)"
   ]
  },
  {
   "cell_type": "code",
   "execution_count": 19,
   "id": "43e9ddb2",
   "metadata": {},
   "outputs": [],
   "source": [
    "G = nx.DiGraph()\n",
    "for index, paper in screen.iterrows():\n",
    "    doi_from = paper['DOI']\n",
    "    try:\n",
    "        citations = crossref_commons.retrieval.get_publication_as_json(doi_from)\n",
    "        is_valid =True\n",
    "    except (TypeError, ValueError) as e: # when there is no DOI / cannot access DOI\n",
    "        is_valid = False\n",
    "        continue\n",
    "    if (is_valid == True) and ('reference' in citations.keys()): # paper's reference info available\n",
    "        for ref in citations['reference']:\n",
    "            try:\n",
    "                doi_to = ref['DOI']\n",
    "                G.add_edge(doi_from,doi_to)\n",
    "            except KeyError: # reference DOI not available\n",
    "                continue\n"
   ]
  },
  {
   "cell_type": "code",
   "execution_count": 20,
   "id": "4e2ee324",
   "metadata": {},
   "outputs": [
    {
     "data": {
      "text/plain": [
       "'DiGraph with 1240 nodes and 1536 edges'"
      ]
     },
     "execution_count": 20,
     "metadata": {},
     "output_type": "execute_result"
    }
   ],
   "source": [
    "nx.info(G)"
   ]
  },
  {
   "cell_type": "markdown",
   "id": "152ee18a",
   "metadata": {},
   "source": [
    "Get list of articles in network, go back into CrossRef and mine info on each article."
   ]
  },
  {
   "cell_type": "code",
   "execution_count": 72,
   "id": "9b493f8a",
   "metadata": {},
   "outputs": [],
   "source": [
    "ranks = nx.pagerank(G)\n",
    "ranks = pd.DataFrame.from_dict(ranks,orient='index', columns=['PageRank'])\n",
    "ranks = ranks.sort_values('PageRank')\n",
    "for paper in ranks.index:\n",
    "    try:\n",
    "        info = crossref_commons.retrieval.get_publication_as_json(paper)\n",
    "        authors = []\n",
    "        for auth in info['author']:\n",
    "            if 'family' in auth.keys():\n",
    "                authors.append(auth['family'])\n",
    "        ranks.loc[paper, 'author'] = ','.join(authors)\n",
    "        \n",
    "        if type(info['title']) == 'list':\n",
    "            ranks.loc[paper, 'title'] = info['title'][0]\n",
    "        else:\n",
    "            ranks.loc[paper, 'title'] = info['title']\n",
    "            \n",
    "        if 'published' in info.keys():\n",
    "            ranks.loc[paper, 'year'] = info['published']['date-parts'][0][0]\n",
    "        else:\n",
    "            ranks.loc[paper, 'year'] = 'missing'\n",
    "            \n",
    "    except (ValueError, KeyError) as e:\n",
    "        ranks.loc[paper, 'author'] = 'error'\n",
    "        ranks.loc[paper, 'title'] = 'error'\n",
    "        continue"
   ]
  },
  {
   "cell_type": "code",
   "execution_count": 86,
   "id": "c368ac26",
   "metadata": {},
   "outputs": [],
   "source": [
    "nx.write_gml(G,'netTest.gml')"
   ]
  },
  {
   "cell_type": "code",
   "execution_count": 81,
   "id": "90ee2829",
   "metadata": {},
   "outputs": [
    {
     "data": {
      "text/html": [
       "<div>\n",
       "<style scoped>\n",
       "    .dataframe tbody tr th:only-of-type {\n",
       "        vertical-align: middle;\n",
       "    }\n",
       "\n",
       "    .dataframe tbody tr th {\n",
       "        vertical-align: top;\n",
       "    }\n",
       "\n",
       "    .dataframe thead th {\n",
       "        text-align: right;\n",
       "    }\n",
       "</style>\n",
       "<table border=\"1\" class=\"dataframe\">\n",
       "  <thead>\n",
       "    <tr style=\"text-align: right;\">\n",
       "      <th></th>\n",
       "      <th>PageRank</th>\n",
       "      <th>author</th>\n",
       "      <th>title</th>\n",
       "      <th>year</th>\n",
       "    </tr>\n",
       "  </thead>\n",
       "  <tbody>\n",
       "    <tr>\n",
       "      <th>10.1016/S0022-5347(05)66131-9</th>\n",
       "      <td>0.000765</td>\n",
       "      <td>AKMAN,LIU,LI,BASKIN</td>\n",
       "      <td>[PENILE ANATOMY UNDER THE PUBIC ARCH: RECONSTR...</td>\n",
       "      <td>2001.0</td>\n",
       "    </tr>\n",
       "    <tr>\n",
       "      <th>10.1016/j.sempedsurg.2019.150845</th>\n",
       "      <td>0.000765</td>\n",
       "      <td>Chawla,Rutter,Green,Weidler</td>\n",
       "      <td>[Care of the adolescent patient with congenita...</td>\n",
       "      <td>2019.0</td>\n",
       "    </tr>\n",
       "    <tr>\n",
       "      <th>10.1016/j.jpag.2019.08.011</th>\n",
       "      <td>0.000765</td>\n",
       "      <td>Dabrowski,Johnson,Patel,Hsu,Davis,Goetsch,Habi...</td>\n",
       "      <td>[Turner Syndrome with Y Chromosome: Spontaneou...</td>\n",
       "      <td>2020.0</td>\n",
       "    </tr>\n",
       "    <tr>\n",
       "      <th>10.4158/EP-2019-0599</th>\n",
       "      <td>0.000765</td>\n",
       "      <td>Ganesh,Abadin,Fogelfeld</td>\n",
       "      <td>[Adrenal Vein Sampling Without Discontinuation...</td>\n",
       "      <td>2020.0</td>\n",
       "    </tr>\n",
       "    <tr>\n",
       "      <th>10.1089/10926410050167396</th>\n",
       "      <td>0.000765</td>\n",
       "      <td>Lakshmanan,Peters</td>\n",
       "      <td>[Laparoscopy in the Management of Intersex Ano...</td>\n",
       "      <td>2000.0</td>\n",
       "    </tr>\n",
       "    <tr>\n",
       "      <th>...</th>\n",
       "      <td>...</td>\n",
       "      <td>...</td>\n",
       "      <td>...</td>\n",
       "      <td>...</td>\n",
       "    </tr>\n",
       "    <tr>\n",
       "      <th>10.1016/S0022-5347(05)68986-0</th>\n",
       "      <td>0.001167</td>\n",
       "      <td>ALIZAI,THOMAS,LILFORD,BATCHELOR,JOHNSON</td>\n",
       "      <td>[FEMINIZING GENITOPLASTY FOR CONGENITAL ADRENA...</td>\n",
       "      <td>1999.0</td>\n",
       "    </tr>\n",
       "    <tr>\n",
       "      <th>10.1016/0002-9378(76)90160-5</th>\n",
       "      <td>0.001224</td>\n",
       "      <td>Manuel,Katayama,Jones</td>\n",
       "      <td>[The age of occurrence of gonadal tumors in in...</td>\n",
       "      <td>1976.0</td>\n",
       "    </tr>\n",
       "    <tr>\n",
       "      <th>10.1016/0022-3468(69)90183-3</th>\n",
       "      <td>0.001225</td>\n",
       "      <td>Hardy Hendren,Crawford</td>\n",
       "      <td>[Adrenogenital syndrome: The anatomy of the an...</td>\n",
       "      <td>1969.0</td>\n",
       "    </tr>\n",
       "    <tr>\n",
       "      <th>10.1111/j.1464-410X.1973.tb12128.x</th>\n",
       "      <td>0.001235</td>\n",
       "      <td>SPENCE,ALLEN</td>\n",
       "      <td>[Genital Reconstruction in the Female with the...</td>\n",
       "      <td>1973.0</td>\n",
       "    </tr>\n",
       "    <tr>\n",
       "      <th>10.1542/peds.2006-0738</th>\n",
       "      <td>0.001432</td>\n",
       "      <td>Lee,Houk,Ahmed,Hughes</td>\n",
       "      <td>[Consensus Statement on Management of Intersex...</td>\n",
       "      <td>2006.0</td>\n",
       "    </tr>\n",
       "  </tbody>\n",
       "</table>\n",
       "<p>1240 rows × 4 columns</p>\n",
       "</div>"
      ],
      "text/plain": [
       "                                    PageRank  \\\n",
       "10.1016/S0022-5347(05)66131-9       0.000765   \n",
       "10.1016/j.sempedsurg.2019.150845    0.000765   \n",
       "10.1016/j.jpag.2019.08.011          0.000765   \n",
       "10.4158/EP-2019-0599                0.000765   \n",
       "10.1089/10926410050167396           0.000765   \n",
       "...                                      ...   \n",
       "10.1016/S0022-5347(05)68986-0       0.001167   \n",
       "10.1016/0002-9378(76)90160-5        0.001224   \n",
       "10.1016/0022-3468(69)90183-3        0.001225   \n",
       "10.1111/j.1464-410X.1973.tb12128.x  0.001235   \n",
       "10.1542/peds.2006-0738              0.001432   \n",
       "\n",
       "                                                                               author  \\\n",
       "10.1016/S0022-5347(05)66131-9                                     AKMAN,LIU,LI,BASKIN   \n",
       "10.1016/j.sempedsurg.2019.150845                          Chawla,Rutter,Green,Weidler   \n",
       "10.1016/j.jpag.2019.08.011          Dabrowski,Johnson,Patel,Hsu,Davis,Goetsch,Habi...   \n",
       "10.4158/EP-2019-0599                                          Ganesh,Abadin,Fogelfeld   \n",
       "10.1089/10926410050167396                                           Lakshmanan,Peters   \n",
       "...                                                                               ...   \n",
       "10.1016/S0022-5347(05)68986-0                 ALIZAI,THOMAS,LILFORD,BATCHELOR,JOHNSON   \n",
       "10.1016/0002-9378(76)90160-5                                    Manuel,Katayama,Jones   \n",
       "10.1016/0022-3468(69)90183-3                                   Hardy Hendren,Crawford   \n",
       "10.1111/j.1464-410X.1973.tb12128.x                                       SPENCE,ALLEN   \n",
       "10.1542/peds.2006-0738                                          Lee,Houk,Ahmed,Hughes   \n",
       "\n",
       "                                                                                title  \\\n",
       "10.1016/S0022-5347(05)66131-9       [PENILE ANATOMY UNDER THE PUBIC ARCH: RECONSTR...   \n",
       "10.1016/j.sempedsurg.2019.150845    [Care of the adolescent patient with congenita...   \n",
       "10.1016/j.jpag.2019.08.011          [Turner Syndrome with Y Chromosome: Spontaneou...   \n",
       "10.4158/EP-2019-0599                [Adrenal Vein Sampling Without Discontinuation...   \n",
       "10.1089/10926410050167396           [Laparoscopy in the Management of Intersex Ano...   \n",
       "...                                                                               ...   \n",
       "10.1016/S0022-5347(05)68986-0       [FEMINIZING GENITOPLASTY FOR CONGENITAL ADRENA...   \n",
       "10.1016/0002-9378(76)90160-5        [The age of occurrence of gonadal tumors in in...   \n",
       "10.1016/0022-3468(69)90183-3        [Adrenogenital syndrome: The anatomy of the an...   \n",
       "10.1111/j.1464-410X.1973.tb12128.x  [Genital Reconstruction in the Female with the...   \n",
       "10.1542/peds.2006-0738              [Consensus Statement on Management of Intersex...   \n",
       "\n",
       "                                      year  \n",
       "10.1016/S0022-5347(05)66131-9       2001.0  \n",
       "10.1016/j.sempedsurg.2019.150845    2019.0  \n",
       "10.1016/j.jpag.2019.08.011          2020.0  \n",
       "10.4158/EP-2019-0599                2020.0  \n",
       "10.1089/10926410050167396           2000.0  \n",
       "...                                    ...  \n",
       "10.1016/S0022-5347(05)68986-0       1999.0  \n",
       "10.1016/0002-9378(76)90160-5        1976.0  \n",
       "10.1016/0022-3468(69)90183-3        1969.0  \n",
       "10.1111/j.1464-410X.1973.tb12128.x  1973.0  \n",
       "10.1542/peds.2006-0738              2006.0  \n",
       "\n",
       "[1240 rows x 4 columns]"
      ]
     },
     "execution_count": 81,
     "metadata": {},
     "output_type": "execute_result"
    }
   ],
   "source": [
    "ranks"
   ]
  },
  {
   "cell_type": "markdown",
   "id": "07691b4e",
   "metadata": {},
   "source": [
    "Good to see that the missing data are from unimportant articles."
   ]
  },
  {
   "cell_type": "code",
   "execution_count": 80,
   "id": "4be88a9f",
   "metadata": {},
   "outputs": [
    {
     "data": {
      "text/html": [
       "<div>\n",
       "<style scoped>\n",
       "    .dataframe tbody tr th:only-of-type {\n",
       "        vertical-align: middle;\n",
       "    }\n",
       "\n",
       "    .dataframe tbody tr th {\n",
       "        vertical-align: top;\n",
       "    }\n",
       "\n",
       "    .dataframe thead th {\n",
       "        text-align: right;\n",
       "    }\n",
       "</style>\n",
       "<table border=\"1\" class=\"dataframe\">\n",
       "  <thead>\n",
       "    <tr style=\"text-align: right;\">\n",
       "      <th></th>\n",
       "      <th>PageRank</th>\n",
       "      <th>author</th>\n",
       "      <th>title</th>\n",
       "      <th>year</th>\n",
       "    </tr>\n",
       "  </thead>\n",
       "  <tbody>\n",
       "    <tr>\n",
       "      <th>10.1210/jc.84.10.3455</th>\n",
       "      <td>0.000776</td>\n",
       "      <td>error</td>\n",
       "      <td>error</td>\n",
       "      <td>NaN</td>\n",
       "    </tr>\n",
       "    <tr>\n",
       "      <th>10.1023/A:1022492106974</th>\n",
       "      <td>0.000779</td>\n",
       "      <td>error</td>\n",
       "      <td>error</td>\n",
       "      <td>NaN</td>\n",
       "    </tr>\n",
       "    <tr>\n",
       "      <th>10.1098/rstb.1970.0052</th>\n",
       "      <td>0.000779</td>\n",
       "      <td>error</td>\n",
       "      <td>error</td>\n",
       "      <td>NaN</td>\n",
       "    </tr>\n",
       "    <tr>\n",
       "      <th>10.1097/AOG.0000000000002452</th>\n",
       "      <td>0.000780</td>\n",
       "      <td>error</td>\n",
       "      <td>error</td>\n",
       "      <td>NaN</td>\n",
       "    </tr>\n",
       "    <tr>\n",
       "      <th>10.1097/AOG.0000000000002458</th>\n",
       "      <td>0.000782</td>\n",
       "      <td>error</td>\n",
       "      <td>error</td>\n",
       "      <td>NaN</td>\n",
       "    </tr>\n",
       "    <tr>\n",
       "      <th>10.1016/S0022-5347(01)69789-1</th>\n",
       "      <td>0.000784</td>\n",
       "      <td>error</td>\n",
       "      <td>error</td>\n",
       "      <td>NaN</td>\n",
       "    </tr>\n",
       "    <tr>\n",
       "      <th>10.1159/000065490</th>\n",
       "      <td>0.000784</td>\n",
       "      <td>error</td>\n",
       "      <td>error</td>\n",
       "      <td>NaN</td>\n",
       "    </tr>\n",
       "    <tr>\n",
       "      <th>10.1097/00019509-199904000-00015</th>\n",
       "      <td>0.000790</td>\n",
       "      <td>error</td>\n",
       "      <td>error</td>\n",
       "      <td>NaN</td>\n",
       "    </tr>\n",
       "    <tr>\n",
       "      <th>10.1002/bdrc.21145</th>\n",
       "      <td>0.000791</td>\n",
       "      <td>error</td>\n",
       "      <td>error</td>\n",
       "      <td>NaN</td>\n",
       "    </tr>\n",
       "    <tr>\n",
       "      <th>10.1023/A:1016272209463</th>\n",
       "      <td>0.000795</td>\n",
       "      <td>error</td>\n",
       "      <td>error</td>\n",
       "      <td>NaN</td>\n",
       "    </tr>\n",
       "    <tr>\n",
       "      <th>10.1136/bmj.328.7454.1490</th>\n",
       "      <td>0.000809</td>\n",
       "      <td>error</td>\n",
       "      <td>error</td>\n",
       "      <td>NaN</td>\n",
       "    </tr>\n",
       "    <tr>\n",
       "      <th>10.1016/S0029-7844(02)02158-0</th>\n",
       "      <td>0.000815</td>\n",
       "      <td>error</td>\n",
       "      <td>error</td>\n",
       "      <td>NaN</td>\n",
       "    </tr>\n",
       "    <tr>\n",
       "      <th>10.1136/bmj.2.6141.867</th>\n",
       "      <td>0.000825</td>\n",
       "      <td>error</td>\n",
       "      <td>error</td>\n",
       "      <td>NaN</td>\n",
       "    </tr>\n",
       "  </tbody>\n",
       "</table>\n",
       "</div>"
      ],
      "text/plain": [
       "                                  PageRank author  title  year\n",
       "10.1210/jc.84.10.3455             0.000776  error  error   NaN\n",
       "10.1023/A:1022492106974           0.000779  error  error   NaN\n",
       "10.1098/rstb.1970.0052            0.000779  error  error   NaN\n",
       "10.1097/AOG.0000000000002452      0.000780  error  error   NaN\n",
       "10.1097/AOG.0000000000002458      0.000782  error  error   NaN\n",
       "10.1016/S0022-5347(01)69789-1     0.000784  error  error   NaN\n",
       "10.1159/000065490                 0.000784  error  error   NaN\n",
       "10.1097/00019509-199904000-00015  0.000790  error  error   NaN\n",
       "10.1002/bdrc.21145                0.000791  error  error   NaN\n",
       "10.1023/A:1016272209463           0.000795  error  error   NaN\n",
       "10.1136/bmj.328.7454.1490         0.000809  error  error   NaN\n",
       "10.1016/S0029-7844(02)02158-0     0.000815  error  error   NaN\n",
       "10.1136/bmj.2.6141.867            0.000825  error  error   NaN"
      ]
     },
     "execution_count": 80,
     "metadata": {},
     "output_type": "execute_result"
    }
   ],
   "source": [
    "ranks[ranks['author'].str.contains('error')]"
   ]
  },
  {
   "cell_type": "code",
   "execution_count": 84,
   "id": "045de460",
   "metadata": {},
   "outputs": [
    {
     "data": {
      "image/png": "[encoded data removed]",
      "text/plain": [
       "<Figure size 432x288 with 1 Axes>"
      ]
     },
     "metadata": {
      "needs_background": "light"
     },
     "output_type": "display_data"
    }
   ],
   "source": [
    "plt.hist(ranks['year'],bins=50)\n",
    "plt.title(\"Distr of Pub Year\")\n",
    "plt.xlabel(\"Year\")\n",
    "plt.ylabel(\"# of Articles\")\n",
    "plt.show()"
   ]
  },
  {
   "cell_type": "code",
   "execution_count": 87,
   "id": "601bf53d",
   "metadata": {},
   "outputs": [
    {
     "data": {
      "image/png": "[encoded data removed]",
      "text/plain": [
       "<Figure size 432x288 with 1 Axes>"
      ]
     },
     "metadata": {
      "needs_background": "light"
     },
     "output_type": "display_data"
    }
   ],
   "source": [
    "plt.hist(ranks['PageRank'],bins=50)\n",
    "plt.yscale('log')\n",
    "plt.xscale('log')\n",
    "plt.title(\"Distr of Influence in Network\")\n",
    "plt.xlabel(\"log[PageRank]\")\n",
    "plt.ylabel(\"log[# of Articles]\")\n",
    "plt.show()"
   ]
  },
  {
   "cell_type": "markdown",
   "id": "16962e8d",
   "metadata": {},
   "source": [
    "Distances between any two papers"
   ]
  },
  {
   "cell_type": "code",
   "execution_count": null,
   "id": "e05e01d9",
   "metadata": {},
   "outputs": [],
   "source": [
    "distances = nx.floyd_warshall_numpy(G)"
   ]
  },
  {
   "cell_type": "code",
   "execution_count": 90,
   "id": "fea78c04",
   "metadata": {},
   "outputs": [
    {
     "data": {
      "image/png": "[encoded data removed]",
      "text/plain": [
       "<Figure size 432x288 with 1 Axes>"
      ]
     },
     "metadata": {
      "needs_background": "light"
     },
     "output_type": "display_data"
    }
   ],
   "source": [
    "distances[np.isinf(distances)] =0\n",
    "plt.hist(distances.flatten('F'), bins=[0,1,2,3,4,5])\n",
    "plt.yscale('log')\n",
    "plt.title(\"Distr of Pub-to-Pub distance\")\n",
    "plt.xlabel(\"Distance\")\n",
    "plt.ylabel(\"# of Distances\")\n",
    "plt.show()"
   ]
  },
  {
   "cell_type": "code",
   "execution_count": null,
   "id": "9ba50df6",
   "metadata": {},
   "outputs": [],
   "source": []
  }
 ],
 "metadata": {
  "anaconda-cloud": {
   "summary": "test publish"
  },
  "kernelspec": {
   "display_name": "Python [conda env:.conda-network]",
   "language": "python",
   "name": "conda-env-.conda-network-py"
  },
  "language_info": {
   "codemirror_mode": {
    "name": "ipython",
    "version": 3
   },
   "file_extension": ".py",
   "mimetype": "text/x-python",
   "name": "python",
   "nbconvert_exporter": "python",
   "pygments_lexer": "ipython3",
   "version": "3.8.13"
  }
 },
 "nbformat": 4,
 "nbformat_minor": 5
}
